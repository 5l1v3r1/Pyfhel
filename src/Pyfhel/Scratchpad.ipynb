{
 "cells": [
  {
   "cell_type": "code",
   "execution_count": 91,
   "metadata": {},
   "outputs": [],
   "source": [
    "import tensorflow as tf"
   ]
  },
  {
   "cell_type": "code",
   "execution_count": 93,
   "metadata": {},
   "outputs": [],
   "source": [
    "from Pyfhel import Pyfhel"
   ]
  },
  {
   "cell_type": "code",
   "execution_count": 2,
   "metadata": {},
   "outputs": [],
   "source": [
    "from PyPtxt import PyPtxt # Plaintext class"
   ]
  },
  {
   "cell_type": "code",
   "execution_count": 3,
   "metadata": {},
   "outputs": [],
   "source": [
    "from PyCtxt import PyCtxt # Ciphertext class"
   ]
  },
  {
   "cell_type": "code",
   "execution_count": 4,
   "metadata": {},
   "outputs": [],
   "source": [
    "he = Pyfhel()"
   ]
  },
  {
   "cell_type": "code",
   "execution_count": 76,
   "metadata": {},
   "outputs": [],
   "source": [
    "he.contextGen(40961, flagBatching=True)"
   ]
  },
  {
   "cell_type": "code",
   "execution_count": 57,
   "metadata": {},
   "outputs": [],
   "source": [
    "ptxt = he.encodeFrac(19.34) # p19.3125"
   ]
  },
  {
   "cell_type": "code",
   "execution_count": 58,
   "metadata": {},
   "outputs": [
    {
     "data": {
      "text/plain": [
       "b'63x^2046 + 63x^2044 + 63x^2042 + 1x^4 + 1x^1 + 1'"
      ]
     },
     "execution_count": 58,
     "metadata": {},
     "output_type": "execute_result"
    }
   ],
   "source": [
    "ptxt.to_string()"
   ]
  },
  {
   "cell_type": "code",
   "execution_count": 59,
   "metadata": {},
   "outputs": [
    {
     "data": {
      "text/plain": [
       "19.328125"
      ]
     },
     "execution_count": 59,
     "metadata": {},
     "output_type": "execute_result"
    }
   ],
   "source": [
    "he.decodeFrac(ptxt)"
   ]
  },
  {
   "cell_type": "code",
   "execution_count": 77,
   "metadata": {},
   "outputs": [],
   "source": [
    "he.keyGen()"
   ]
  },
  {
   "cell_type": "code",
   "execution_count": 85,
   "metadata": {},
   "outputs": [],
   "source": [
    "ctxt = he.encryptArray([1,2,3,4])"
   ]
  },
  {
   "cell_type": "code",
   "execution_count": 86,
   "metadata": {},
   "outputs": [],
   "source": [
    "ctxt2 = he.encryptArray(np.array([21,32,43,-54]))"
   ]
  },
  {
   "cell_type": "code",
   "execution_count": 87,
   "metadata": {},
   "outputs": [],
   "source": [
    "ctxt3 = he.multiply(ctxt, ctxt2, True)"
   ]
  },
  {
   "cell_type": "code",
   "execution_count": 90,
   "metadata": {},
   "outputs": [
    {
     "data": {
      "text/plain": [
       "<MemoryView of 'array' at 0x7faaf0051a38>"
      ]
     },
     "execution_count": 90,
     "metadata": {},
     "output_type": "execute_result"
    }
   ],
   "source": [
    "he.decryptArray(ctxt3)"
   ]
  },
  {
   "cell_type": "code",
   "execution_count": null,
   "metadata": {},
   "outputs": [],
   "source": [
    "# addition, substraction, multiplication, square, negation\n",
    "# power, polynomials."
   ]
  },
  {
   "cell_type": "code",
   "execution_count": null,
   "metadata": {},
   "outputs": [],
   "source": []
  },
  {
   "cell_type": "code",
   "execution_count": null,
   "metadata": {},
   "outputs": [],
   "source": []
  },
  {
   "cell_type": "code",
   "execution_count": null,
   "metadata": {},
   "outputs": [],
   "source": []
  },
  {
   "cell_type": "code",
   "execution_count": null,
   "metadata": {},
   "outputs": [],
   "source": []
  },
  {
   "cell_type": "code",
   "execution_count": 7,
   "metadata": {},
   "outputs": [
    {
     "name": "stdout",
     "output_type": "stream",
     "text": [
      "The Cython extension is already loaded. To reload it, use:\n",
      "  %reload_ext Cython\n"
     ]
    }
   ],
   "source": [
    "%load_ext Cython\n",
    "from PyPtxt import PyPtxt\n",
    "from PyCtxt import PyCtxt\n",
    "from Pyfhel import Pyfhel\n",
    "from util import ENCODING_t"
   ]
  },
  {
   "cell_type": "code",
   "execution_count": 9,
   "metadata": {},
   "outputs": [],
   "source": [
    "import numpy as np"
   ]
  },
  {
   "cell_type": "code",
   "execution_count": 11,
   "metadata": {},
   "outputs": [],
   "source": [
    "a = np.array([2,3], dtype=int, order='C')"
   ]
  },
  {
   "cell_type": "code",
   "execution_count": 8,
   "metadata": {},
   "outputs": [],
   "source": [
    "a = PyPtxt()"
   ]
  },
  {
   "cell_type": "code",
   "execution_count": 10,
   "metadata": {},
   "outputs": [
    {
     "data": {
      "text/plain": [
       "True"
      ]
     },
     "execution_count": 10,
     "metadata": {},
     "output_type": "execute_result"
    }
   ],
   "source": [
    "a.is_zero()"
   ]
  },
  {
   "cell_type": "code",
   "execution_count": 3,
   "metadata": {},
   "outputs": [
    {
     "data": {
      "text/plain": [
       "<ENCODING_t.FRACTIONAL: 2>"
      ]
     },
     "execution_count": 3,
     "metadata": {},
     "output_type": "execute_result"
    }
   ],
   "source": [
    "ENCODING_t(2)"
   ]
  },
  {
   "cell_type": "code",
   "execution_count": 15,
   "metadata": {},
   "outputs": [],
   "source": [
    "a = ENCODING_r.FRACTIONAL"
   ]
  },
  {
   "cell_type": "code",
   "execution_count": 56,
   "metadata": {},
   "outputs": [],
   "source": [
    "%%cython -c=-std=c++17 -lseal -lafhel\n",
    "# distutils: language = c++\n",
    "\n",
    "# Both numpy and the Cython declarations for numpy\n",
    "import numpy as np\n",
    "\n",
    "# Type checking for only numeric values\n",
    "from numbers import Number\n",
    "\n",
    "# Dereferencing pointers in Cython in a secure way\n",
    "from cython.operator cimport dereference as deref\n",
    "\n",
    "# Define Plaintext types\n",
    "PLAINTEXT_T = (PyPtxt, float, int, np.ndarray)\n",
    "\n",
    "cdef class Pyfhel:\n",
    "    cdef Afseal* afseal           # The C++ methods are accessed via a pointer\n",
    "    \n",
    "    # INIT & DESTRUCT\n",
    "    def __cinit__(self):\n",
    "        self.afseal = new Afseal()\n",
    "    def __dealloc__(self):\n",
    "        if self.afseal != NULL:\n",
    "            del self.afseal\n",
    "\n",
    "    \n",
    "    # ----------------------------- CRYPTOGRAPHY ------------------------------\n",
    "    cpdef void ContextGen(self, long p, long m=2048, bool flagBatching=False,\n",
    "                  long base=2, long sec=128, int intDigits=64, int fracDigits = 32):\n",
    "        \"\"\"Generates Homomorphic Encryption context based on parameters.\n",
    "        \n",
    "        Args:\n",
    "            p (long): Plaintext modulus. All operations are modulo p.\n",
    "            m (long=2048): Coefficient modulus. Higher allows more encrypted operations.\n",
    "                      In batch mode it is the number of integers per ciphertext.\n",
    "            flagBatching (bool=false): Set to true to enable batching.\n",
    "            base (long=2): Polynomial base. Affects size of plaintexts/ciphertexts. \n",
    "            sec (long=128): Security level equivalent in AES. Either 128 or 192.\n",
    "            intDigits (int=64): when encrypting/encoding double, truncated positions\n",
    "                      dedicated to integer part, out of 'm' positions\n",
    "            fracDigits (int=32): when encrypting/encoding double, truncated positions\n",
    "                      dedicated to fractional part, out of 'm' positions\n",
    "                      \n",
    "        Return:\n",
    "            None\n",
    "        \"\"\"\n",
    "        self.afseal.ContextGen(p, m, flagBatching, base, sec,intDigits, fracDigits)\n",
    "        \n",
    "        \n",
    "    cpdef void KeyGen(self):\n",
    "        \"\"\"Generates a pair of Private/Public Keys.\n",
    "        \n",
    "        Based on the current context, initializes one public and one private key. \n",
    "        Args:\n",
    "            None\n",
    "                      \n",
    "        Return:\n",
    "            None\n",
    "        \"\"\"\n",
    "        self.afseal.KeyGen()\n",
    "    \n",
    "    # ENCRYPTION encrypt a PyPtxt object into a PyCtxt object\n",
    "    cpdef encryptInt(self, int64_t value, PyCtxt ctxt=None):\n",
    "        \"\"\"Encrypts a single value into a PyCtxt ciphertext.\n",
    "        \n",
    "        Encrypts a single value using the current private key, based on the current context.\n",
    "        Plaintext must either be an integer (int64_t) or a decimal that will get\n",
    "        truncated (float).\n",
    "        If provided a ciphertext, encrypts the plaintext inside it. \n",
    "        \n",
    "        Args:\n",
    "            ptxt (int|float): plaintext to encrypt.\n",
    "            ctxt (PyCtxt=None): Optional destination ciphertext.  \n",
    "            \n",
    "        Return:\n",
    "            PyCtxt: the ciphertext containing the encrypted plaintext\n",
    "            \n",
    "        Raise:\n",
    "            TypeError: if the plaintext doesn't have a valid type.\n",
    "        \"\"\"\n",
    "        if (ctxt._ptr_ctxt == NULL):\n",
    "            ctxt = PyCtxt()\n",
    "        self.afseal.encrypt(value, deref(ctxt._ptr_ctxt))\n",
    "        return ctxt\n",
    "    \n",
    "    cpdef encryptFrac(self, double value, PyCtxt ctxt=None):\n",
    "        \"\"\"Encrypts a single value into a PyCtxt ciphertext.\n",
    "        \n",
    "        Encrypts a single value using the current private key, based on the current context.\n",
    "        Plaintext must either be an integer (int64_t) or a decimal that will get\n",
    "        truncated (float).\n",
    "        If provided a ciphertext, encrypts the plaintext inside it. \n",
    "        \n",
    "        Args:\n",
    "            ptxt (int|float): plaintext to encrypt.\n",
    "            ctxt (PyCtxt=None): Optional destination ciphertext.  \n",
    "            \n",
    "        Return:\n",
    "            PyCtxt: the ciphertext containing the encrypted plaintext\n",
    "            \n",
    "        Raise:\n",
    "            TypeError: if the plaintext doesn't have a valid type.\n",
    "        \"\"\"\n",
    "        if (ctxt._ptr_ctxt == NULL):\n",
    "            ctxt = PyCtxt()\n",
    "        self.afseal.encrypt(value, deref(ctxt._ptr_ctxt))\n",
    "        return ctxt\n",
    "    \n",
    "    cpdef encryptBatch(self, vector[int64_t] vec, PyCtxt ctxt=None): \n",
    "        \"\"\"Encrypts a 1D numpy vector of integers into a PyCtxt ciphertext.\n",
    "        \n",
    "        Encrypts a 1D numpy vector of integers using the current private key,\n",
    "        based on the current context. Plaintext must be a 1D numpy vector of integers.\n",
    "        Requires batch mode. The vector needs to be in 'contiguous' or 'c' mode.\n",
    "        If provided a ciphertext, encrypts the plaintext inside it. \n",
    "        \n",
    "        Args:\n",
    "            ptxt (np.ndarray[int, ndim=1, mode=\"c\"]): plaintext to encrypt.\n",
    "            ctxt (PyCtxt=None): Optional destination ciphertext.  \n",
    "            \n",
    "        Return:\n",
    "            PyCtxt: the ciphertext containing the encrypted plaintext\n",
    "        \"\"\"\n",
    "        if (ctxt._ptr_ctxt == NULL):\n",
    "            ctxt = PyCtxt()\n",
    "        self.afseal.encrypt(vec, deref(ctxt._ptr_ctxt)) \n",
    "        return ctxt  \n",
    "        \n",
    "    cpdef encryptPtxt(self, PyPtxt ptxt, PyCtxt ctxt=None):\n",
    "        \"\"\"Encrypts an already encoded PyPtxt plaintext into a PyCtxt ciphertext.\n",
    "        \n",
    "        Encrypts an already encoded PyPtxt plaintext using the current private key,\n",
    "        based on the current context. Plaintext must be a PyPtxt.\n",
    "        If provided a ciphertext, encrypts the plaintext inside it. \n",
    "        \n",
    "        Args:\n",
    "            ptxt (PyPtxt): plaintext to encrypt.\n",
    "            ctxt (PyCtxt=None): Optional destination ciphertext.  \n",
    "            \n",
    "        Return:\n",
    "            PyCtxt: the ciphertext containing the encrypted plaintext\n",
    "            \n",
    "        Raise:\n",
    "            TypeError: if the plaintext doesn't have a valid type.\n",
    "        \"\"\"\n",
    "        if (ptxt._ptr_ptxt == NULL):\n",
    "            raise TypeError(\"Plaintext is empty\")\n",
    "        if (ctxt._ptr_ctxt == NULL):\n",
    "            ctxt = PyCtxt()\n",
    "        self.afseal.encrypt(deref(ptxt._ptr_ptxt), deref(ctxt._ptr_ctxt)) \n",
    "        ctxt.\n",
    "        return ctxt\n",
    "\n",
    "    def encrypt(self, ptxt not None, ctxt=None):\n",
    "        \"\"\"Encrypts any valid plaintext into a PyCtxt ciphertext.\n",
    "        \n",
    "        Encrypts a plaintext using the current private key, based on the current context.\n",
    "        Plaintext must be an integer (int), a decimal that will get truncated (double),\n",
    "        a PyPtxt encoded plaintext, or in Batch mode a 1D numpy vector of integers.\n",
    "        Selects the encryption function based on type.\n",
    "        \n",
    "        If provided a ciphertext, encrypts the plaintext inside it. \n",
    "        \n",
    "        Args:\n",
    "            ptxt (PyPtxt|int|double|np_1d_int_array): plaintext to encrypt.\n",
    "            ctxt (PyCtxt=None): Optional destination ciphertext.  \n",
    "            \n",
    "        Return:\n",
    "            PyCtxt: the ciphertext containing the encrypted plaintext\n",
    "            \n",
    "        Raise:\n",
    "            TypeError: if the plaintext doesn't have a valid type.\n",
    "        \"\"\"\n",
    "        if not isinstance(ptxt, PLAINTEXT_T):\n",
    "            raise TypeError('<Pyfhel ERROR> Plaintext type \\['+type(ptxt)+\n",
    "                            '\\] not supported for encryption')\n",
    "        if isinstance(ptxt, PyPtxt):\n",
    "            return self.encryptPtxt(ptxt, ctxt)\n",
    "        elif isinstance(ptxt, np.ndarray):\n",
    "            if (ptxt.ndim is not 1) or (ptxt.dtype is not int):\n",
    "                raise TypeError('<Pyfhel ERROR> Plaintext numpy array is not'\n",
    "                                '1D vector of int values, cannot encrypt.')\n",
    "            return self.encryptBatch(ptxt, ctxt)  \n",
    "        elif isinstance(ptxt, float):\n",
    "            return self.encryptValue(<float>ptxt, ctxt)   \n",
    "        elif isinstance(ptxt, Number):\n",
    "            return self.encryptValue(<int64_t>ptxt, ctxt)  \n",
    "    \n",
    "    cpdef decrypt(self, PyCtxt ctxt, PyPtxt ptxt=None):\n",
    "        pass"
   ]
  },
  {
   "cell_type": "code",
   "execution_count": null,
   "metadata": {},
   "outputs": [],
   "source": [
    "\n",
    "    # DECRYPT a PyCtxt object into a List of values\n",
    "    def decrypt(self, ctxt):\n",
    "        if not isinstance(ctxt, PyCtxt):\n",
    "            raise TypeError(\"Pyfhel decrypt error: ctxt must be of type PyCtxt instead of type \" + str(type(ctxt)))\n",
    "        retList = []\n",
    "        cdef vector[long] retVect\n",
    "        ids = ctxt.getIDs()\n",
    "        lens = ctxt.getLen()\n",
    "        for i,l in zip(ids,lens):           # For each key in PyCtxt\n",
    "            retPtxt = []\n",
    "            retV = self.afseal.decrypt(i)    # Decrypt its Afhel Ctxt\n",
    "            for k in range(l):\n",
    "                retPtxt.append(retV[k])     # Append values 1 by 1 to final list\n",
    "            retList.append(retPtxt)\n",
    "        return retList                      # Return only the non-filler values\n",
    "\n",
    "\n",
    "    # DUPLICATE a PyCtxt with all its parameters, useful to keep originals in ops\n",
    "    def duplicate(self, ctxt):\n",
    "        if not isinstance(ctxt, PyCtxt):\n",
    "            raise TypeError(\"Pyfhel set error: ctxt must be of type PyCtxt instead of type \" + str(type(ctxt)))\n",
    "        ids = ctxt.getIDs()                 # Use same Pyfhel class and same #IDs\n",
    "        new_ctxt = PyCtxt(ctxt.getPyfhel(), ctxt.getLen())\n",
    "        for i in ids:                       # Loop over all IDs and append them\n",
    "            new_ctxt.appendID(self.afseal.set(i))\n",
    "        return new_ctxt                     # Return duplicated PyCtxt\n",
    "\n",
    "\n",
    "    # ----------------------------- OPERATIONS --------------------------------\n",
    "    # ADD two PyCtxt objects for each ID in both\n",
    "    def add(self, ctxt1, ctxt2, neg=False):\n",
    "        if not isinstance(ctxt1, PyCtxt):\n",
    "            raise TypeError(\"Pyfhel addCtxt error: ctxt1 must be of type PyCtxt instead of type \" + str(type(ctxt1)))\n",
    "        if not isinstance(ctxt2, PyCtxt):\n",
    "            raise TypeError(\"Pyfhel addCtxt error: ctxt2 must be of type PyCtxt instead of type \" + str(type(ctxt2)))\n",
    "\n",
    "        ids1 = ctxt1.getIDs()\n",
    "        ids2 = ctxt2.getIDs()\n",
    "        n_ids = len(ids1)\n",
    "        if n_ids != len(ids2):              # They must have the same # of IDs\n",
    "            raise PyCtxtLenError()\n",
    "        for i in range(n_ids):              # Use Afhel::add to + each pair of Ctxts by IDs\n",
    "            self.afseal.add(ids1[i],ids2[i], neg)\n",
    "\n",
    "\n",
    "    # MULTiply two PyCtxt objects for each ID in both\n",
    "    def mult(self, ctxt1, ctxt2):\n",
    "        if not isinstance(ctxt1, PyCtxt):\n",
    "            raise TypeError(\"Pyfhel multiplyBy error: ctxt1 must be of type PyCtxt instead of type \" + str(type(ctxt1)))\n",
    "        if not isinstance(ctxt2, PyCtxt):\n",
    "            raise TypeError(\"Pyfhel multiplyBy error: ctxt2 must be of type PyCtxt instead of type \" + str(type(ctxt2)))\n",
    "        ids1 = ctxt1.getIDs()\n",
    "        ids2 = ctxt2.getIDs()\n",
    "        n_ids = len(ids1)\n",
    "        if n_ids != len(ids2):              # They must have the same # of IDs\n",
    "            raise PyCtxtLenError()\n",
    "        for i in range(n_ids):              # Use Afhel::mult to * each pair of Ctxts by IDs\n",
    "            self.afseal.mult(ids1[i],ids2[i])\n",
    "\n",
    "\n",
    "    # MULTIPLY 3 PyCtxt objects for each ID in both\n",
    "    def mult3(self, ctxt1, ctxt2, ctxt3):\n",
    "        if not isinstance(ctxt1, PyCtxt):\n",
    "            raise TypeError(\"Pyfhel multiplyBy error: ctxt1 must be of type PyCtxt instead of type \" + str(type(ctxt1)))\n",
    "        if not isinstance(ctxt2, PyCtxt):\n",
    "            raise TypeError(\"Pyfhel multiplyBy error: ctxt2 must be of type PyCtxt instead of type \" + str(type(ctxt2)))\n",
    "        if not isinstance(ctxt3, PyCtxt):\n",
    "            raise TypeError(\"Pyfhel multiplyBy error: ctxt3 must be of type PyCtxt instead of type \" + str(type(ctxt3)))    \n",
    "        ids1 = ctxt1.getIDs()\n",
    "        ids2 = ctxt2.getIDs()\n",
    "        ids3 = ctxt3.getIDs()\n",
    "        n_ids = len(ids1)\n",
    "        if n_ids != len(ids2):              # They must have the same # of IDs\n",
    "            raise PyCtxtLenError()\n",
    "        if n_ids != len(ids3):              # They must have the same # of IDs\n",
    "            raise PyCtxtLenError()\n",
    "        for i in range(n_ids):              # Use Afhel::mult to * each pair of Ctxts by IDs\n",
    "            self.afseal.mult3(ids1[i],ids2[i], ids3[i])\n",
    "\n",
    "\n",
    "\n",
    "\n",
    "    # SCALAR PRODuct between two PyCtxt objects for each ID in both\n",
    "    def scalarProd(self, ctxt1, ctxt2):\n",
    "        if not isinstance(ctxt1, PyCtxt):\n",
    "            raise TypeError(\"Pyfhel scalarProd error: ctxt1 must be of type PyCtxt instead of type \" + str(type(ctxt1)))\n",
    "        if not isinstance(ctxt2, PyCtxt):\n",
    "            raise TypeError(\"Pyfhel scalarProd error: ctxt2 must be of type PyCtxt instead of type \" + str(type(ctxt2)))\n",
    "        ids1 = ctxt1.getIDs()\n",
    "        ids2 = ctxt2.getIDs()\n",
    "        n_ids = len(ids1)\n",
    "        if n_ids != len(ids2):              # They must have the same # of IDs\n",
    "            raise PyCtxtLenError()\n",
    "        for i in range(n_ids):              # Use Afhel::scalarProd to compute each pair of Ctxts by IDs\n",
    "            self.afseal.scalarProd(ids1[i],ids2[i], 0)\n",
    "            \n",
    "\n",
    "    # SQUARE each cyphertext inside PyCtxt ctxt for each ID in it\n",
    "    def square(self, ctxt):\n",
    "        if not isinstance(ctxt, PyCtxt):\n",
    "            raise TypeError(\"Pyfhel square error: ctxt must be of type PyCtxt instead of type \" + str(type(ctxt)))\n",
    "\n",
    "        ids = ctxt.getIDs()\n",
    "        n_ids = len(ids)\n",
    "\n",
    "        for i in range(n_ids):\n",
    "            self.afseal.square(ids[i])\n",
    "\n",
    "\n",
    "\n",
    "\n",
    "    # CUMSUM Cumulative sum over all the values in the cyphertext\n",
    "    def cumSum(self, ctxt):\n",
    "        if not isinstance(ctxt, PyCtxt):\n",
    "            raise TypeError(\"Pyfhel cube error: ctxt must be of type PyCtxt instead of type \" + str(type(ctxt)))\n",
    "\n",
    "        ids = ctxt.getIDs()\n",
    "        n_ids = len(ids)\n",
    "\n",
    "        for i in range(n_ids):\n",
    "            self.afseal.cumSum(ids[i])\n",
    "\n",
    "\n",
    "\n",
    "\n",
    "    # CUBE each cyphertext inside PyCtxt ctxt for each ID in it\n",
    "    def cube(self, ctxt):\n",
    "        if not isinstance(ctxt, PyCtxt):\n",
    "            raise TypeError(\"Pyfhel cube error: ctxt must be of type PyCtxt instead of type \" + str(type(ctxt)))\n",
    "\n",
    "        ids = ctxt.getIDs()\n",
    "        n_ids = len(ids)\n",
    "\n",
    "        for i in range(n_ids):\n",
    "            self.afseal.cube(ids[i])\n",
    "\n",
    "\n",
    "    # NEGATE each cyphertext inside PyCtxt ctxt for each ID in it\n",
    "    def negate(self, ctxt):\n",
    "        if not isinstance(ctxt, PyCtxt):\n",
    "            raise TypeError(\"Pyfhel negate error: ctxt must be of type PyCtxt instead of type \" + str(type(ctxt)))\n",
    "\n",
    "        ids = ctxt.getIDs()\n",
    "        n_ids = len(ids)\n",
    "\n",
    "        for i in range(n_ids):\n",
    "            self.afseal.negate(ids[i])\n",
    "\n",
    "\n",
    "    # COMPARE two PyCtxt objects for each ID in both\n",
    "    def equalsTo(self, ctxt1, ctxt2):\n",
    "        if not isinstance(ctxt1, PyCtxt):\n",
    "            raise TypeError(\"Pyfhel equalsTo error: ctxt1 must be of type PyCtxt instead of type \" + str(type(ctxt1)))\n",
    "        if not isinstance(ctxt2, PyCtxt):\n",
    "            raise TypeError(\"Pyfhel equalsTo error: ctxt2 must be of type PyCtxt instead of type \" + str(type(ctxt2)))\n",
    "        ids1 = ctxt1.getIDs()\n",
    "        ids2 = ctxt2.getIDs()\n",
    "        n_ids = len(ids1)\n",
    "        comparison = []\n",
    "        if n_ids != len(ids2):              # They must have the same # of IDs\n",
    "            raise PyCtxtLenError()\n",
    "        for i in range(n_ids):              # Use Afhel::equalsTo to * each pair of Ctxts by IDs\n",
    "            comparison.append(self.afseal.mult(ids1[i],ids2[i]))\n",
    "        return comparison\n",
    "\n",
    "\n",
    "    # ROTATE each cyphertext inside PyCtxt ctxt for each ID in it\n",
    "    def rotate(self, ctxt, c):\n",
    "        if not isinstance(ctxt, PyCtxt):\n",
    "            raise TypeError(\"Pyfhel rotate error: ctxt must be of type PyCtxt instead of type \" + str(type(ctxt)))\n",
    "\n",
    "        ids = ctxt.getIDs()\n",
    "        n_ids = len(ids)\n",
    "\n",
    "        for i in range(n_ids):\n",
    "            self.afseal.rotate(ids[i], c)\n",
    "\n",
    "\n",
    "    # SHIFT each cyphertext inside PyCtxt ctxt for each ID in it\n",
    "    def shift(self, ctxt, c):\n",
    "        if not isinstance(ctxt, PyCtxt):\n",
    "            raise TypeError(\"Pyfhel rotate error: ctxt must be of type PyCtxt instead of type \" + str(type(ctxt)))\n",
    "\n",
    "        ids = ctxt.getIDs()\n",
    "        n_ids = len(ids)\n",
    "\n",
    "        for i in range(n_ids):\n",
    "            self.afseal.shift(ids[i], c)\n",
    "\n",
    "\n",
    "\n",
    "    # ----------------------------------- I/O ---------------------------------\n",
    "\n",
    "    # SAVE ENVIRONMENT\n",
    "    # Saves the environment into a .aenv file\n",
    "    def saveEnv(self, fileName):\n",
    "        if not isinstance(fileName, str):\n",
    "            raise TypeError(\"Pyfhel saveEnv error: fileName must be of type str instead of type \" + str(type(fileName)))\n",
    "        self.afseal.saveEnv(fileName)\n",
    "        return \n",
    "\n",
    "\n",
    "    # RESTORE ENVIRONMENT\n",
    "    # Restores the environment from a .aenv file\n",
    "    def restoreEnv(self, fileName):\n",
    "        if not isinstance(fileName, str):\n",
    "            raise TypeError(\"Pyfhel saveEnv error: fileName must be of type str instead of type \" + str(type(fileName)))\n",
    "        self.afseal.restoreEnv(fileName)\n",
    "        self.modulus = long(pow(self.afseal.getP(), self.afseal.getR()))\n",
    "        return\n",
    "\n",
    "    #--------------------------------- AUXILIARY ------------------------------\n",
    "    def numSlots(self):\n",
    "        return self.afseal.numSlots()\n",
    "    def getModulus(self):\n",
    "        return self.modulus\n",
    "    def delete(self, ctxt):\n",
    "        for i in ctxt.getIDs():\n",
    "            self.afseal.erase(i)\n",
    "\n"
   ]
  },
  {
   "cell_type": "markdown",
   "metadata": {},
   "source": [
    "EXAMPLE ON USAGE OF STD STREAMS FROM C++"
   ]
  },
  {
   "cell_type": "code",
   "execution_count": 16,
   "metadata": {},
   "outputs": [],
   "source": [
    "%%cython\n",
    "# distutils: language = c++\n",
    "from iostream cimport *    \n",
    "\n",
    "def test_ofstreamss(bytes s):\n",
    "    cdef ofstream* outputter\n",
    "    # use try ... finally to ensure destructor is called\n",
    "    outputter = new ofstream(\"output.txt\")\n",
    "    try:\n",
    "        outputter.write(s,len(s))\n",
    "    finally:\n",
    "        del outputter\n",
    "        \n",
    "def test_ifstreamss(int n):\n",
    "    cdef ifstream* inputer\n",
    "    inputer = new ifstream(\"output.txt\")\n",
    "    s = b'aaaaaa'\n",
    "    try:\n",
    "        inputer.read(s,n)\n",
    "    finally:\n",
    "        del inputer\n",
    "    return s"
   ]
  },
  {
   "cell_type": "code",
   "execution_count": 17,
   "metadata": {},
   "outputs": [],
   "source": [
    "test_ofstreamss(b\"This is a test\\n\")"
   ]
  },
  {
   "cell_type": "code",
   "execution_count": 18,
   "metadata": {},
   "outputs": [
    {
     "data": {
      "text/plain": [
       "b'This i'"
      ]
     },
     "execution_count": 18,
     "metadata": {},
     "output_type": "execute_result"
    }
   ],
   "source": [
    "test_ifstreamss(6)"
   ]
  }
 ],
 "metadata": {
  "kernelspec": {
   "display_name": "Python 3",
   "language": "python",
   "name": "python3"
  },
  "language_info": {
   "codemirror_mode": {
    "name": "ipython",
    "version": 3
   },
   "file_extension": ".py",
   "mimetype": "text/x-python",
   "name": "python",
   "nbconvert_exporter": "python",
   "pygments_lexer": "ipython3",
   "version": "3.6.6"
  }
 },
 "nbformat": 4,
 "nbformat_minor": 2
}
