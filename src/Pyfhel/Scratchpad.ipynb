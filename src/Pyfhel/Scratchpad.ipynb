{
 "cells": [
  {
   "cell_type": "code",
   "execution_count": 1,
   "metadata": {},
   "outputs": [],
   "source": [
    "%load_ext Cython"
   ]
  },
  {
   "cell_type": "code",
   "execution_count": 42,
   "metadata": {},
   "outputs": [],
   "source": [
    "%%cython -c=-std=c++17\n",
    "# distutils: language = c++\n",
    "\n",
    "# Importing the required C++ types for the Afhel API: vector, string & bool\n",
    "from libcpp.vector cimport vector\n",
    "from libcpp.string cimport string\n",
    "from libc.stdint cimport int64_t\n",
    "from libcpp cimport bool\n",
    "\n",
    "\n",
    "cdef extern from \"<iostream>\" namespace \"std\":\n",
    "    cdef cppclass ostream:\n",
    "        ostream& write(const char*, int) except +\n",
    "    cdef cppclass istream:\n",
    "        istream& read(const char*, int) except +\n",
    "\n",
    "\n",
    "cdef extern from \"<fstream>\" namespace \"std\":\n",
    "    cdef cppclass ofstream(ostream):\n",
    "        # constructors\n",
    "        ofstream(const char*) except +\n",
    "    cdef cppclass ifstream(ostream):\n",
    "        # constructors\n",
    "        ifstream(const char*) except +\n",
    "        \n",
    "        \n",
    "        \n",
    "cdef extern from \"seal/plaintext.h\" namespace \"seal\":\n",
    "    cdef cppclass Plaintext:\n",
    "        Plaintext() except +\n",
    "        Plaintext(const Plaintext &copy) except +\n",
    "        Plaintext(Plaintext &&source) except +\n",
    "        bool is_zero() except +\n",
    "        void save(ostream &stream) except +\n",
    "        void load(istream &stream) except +\n",
    "        \n",
    "        \n",
    "        \n",
    "cdef extern from \"seal/ciphertext.h\" namespace \"seal\":\n",
    "    cdef cppclass Ciphertext:\n",
    "        Ciphertext() except +\n",
    "        Ciphertext(const Ciphertext &copy) except +\n",
    "        Ciphertext(Ciphertext &&source) except +\n",
    "        int size_capacity() except +\n",
    "        int size() except +\n",
    "        void save(ostream &stream) except +\n",
    "        void load(istream &stream) except +\n",
    "        \n"
   ]
  },
  {
   "cell_type": "markdown",
   "metadata": {},
   "source": [
    "EXAMPLE ON USAGE OF STD STREAMS FROM C++"
   ]
  },
  {
   "cell_type": "code",
   "execution_count": 54,
   "metadata": {},
   "outputs": [],
   "source": [
    "%%cython\n",
    "# distutils: language = c++\n",
    "\n",
    "cdef extern from \"<iostream>\" namespace \"std\":\n",
    "    cdef cppclass ostream:\n",
    "        ostream& write(const char*, int) except +\n",
    "\n",
    "# obviously std::ios_base isn't a namespace, but this lets\n",
    "# Cython generate the correct C++ code\n",
    "cdef extern from \"<iostream>\" namespace \"std::ios_base\":\n",
    "    cdef cppclass open_mode:\n",
    "        pass\n",
    "    cdef open_mode binary\n",
    "    # you can define other constants as needed\n",
    "\n",
    "cdef extern from \"<fstream>\" namespace \"std\":\n",
    "    cdef cppclass ofstream(ostream):\n",
    "        # constructors\n",
    "        ofstream(const char*) except +\n",
    "\n",
    "def test_ofstreamss(bytes s):\n",
    "    cdef ofstream* outputter\n",
    "    # use try ... finally to ensure destructor is called\n",
    "    outputter = new ofstream(\"output.txt\")\n",
    "    try:\n",
    "        outputter.write(s,len(s))\n",
    "    finally:\n",
    "        del outputter"
   ]
  },
  {
   "cell_type": "code",
   "execution_count": 56,
   "metadata": {},
   "outputs": [],
   "source": [
    "test_ofstreamss(b\"we write more aaaastuff\")"
   ]
  }
 ],
 "metadata": {
  "kernelspec": {
   "display_name": "Python 3",
   "language": "python",
   "name": "python3"
  },
  "language_info": {
   "codemirror_mode": {
    "name": "ipython",
    "version": 3
   },
   "file_extension": ".py",
   "mimetype": "text/x-python",
   "name": "python",
   "nbconvert_exporter": "python",
   "pygments_lexer": "ipython3",
   "version": "3.6.5"
  }
 },
 "nbformat": 4,
 "nbformat_minor": 2
}
